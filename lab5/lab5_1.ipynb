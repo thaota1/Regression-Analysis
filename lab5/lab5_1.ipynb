{
  "cells": [
    {
      "cell_type": "code",
      "execution_count": null,
      "metadata": {
        "id": "bTmiM3SZgy4M"
      },
      "outputs": [],
      "source": [
        "#!pip install researchpy"
      ]
    },
    {
      "cell_type": "code",
      "execution_count": 1,
      "metadata": {
        "id": "QqCh1tVqehOO"
      },
      "outputs": [],
      "source": [
        "import pandas as pd\n",
        "import numpy as np\n",
        "\n",
        "import matplotlib.pyplot as plt\n",
        "from scipy import stats\n",
        "import researchpy as rp\n",
        "\n",
        "from statsmodels.formula.api import ols"
      ]
    },
    {
      "cell_type": "code",
      "execution_count": 4,
      "metadata": {
        "id": "UaEu6ZCMehOP",
        "outputId": "de6337cb-db07-41c3-e982-b0ed0f49fdf0"
      },
      "outputs": [
        {
          "data": {
            "text/html": [
              "<div>\n",
              "<style scoped>\n",
              "    .dataframe tbody tr th:only-of-type {\n",
              "        vertical-align: middle;\n",
              "    }\n",
              "\n",
              "    .dataframe tbody tr th {\n",
              "        vertical-align: top;\n",
              "    }\n",
              "\n",
              "    .dataframe thead th {\n",
              "        text-align: right;\n",
              "    }\n",
              "</style>\n",
              "<table border=\"1\" class=\"dataframe\">\n",
              "  <thead>\n",
              "    <tr style=\"text-align: right;\">\n",
              "      <th></th>\n",
              "      <th>season</th>\n",
              "      <th>mnth</th>\n",
              "      <th>holiday</th>\n",
              "      <th>workingday</th>\n",
              "      <th>weathersit</th>\n",
              "      <th>temp</th>\n",
              "      <th>cnt</th>\n",
              "    </tr>\n",
              "  </thead>\n",
              "  <tbody>\n",
              "    <tr>\n",
              "      <th>0</th>\n",
              "      <td>1</td>\n",
              "      <td>1</td>\n",
              "      <td>0</td>\n",
              "      <td>0</td>\n",
              "      <td>2</td>\n",
              "      <td>0.344167</td>\n",
              "      <td>985</td>\n",
              "    </tr>\n",
              "    <tr>\n",
              "      <th>1</th>\n",
              "      <td>1</td>\n",
              "      <td>1</td>\n",
              "      <td>0</td>\n",
              "      <td>0</td>\n",
              "      <td>2</td>\n",
              "      <td>0.363478</td>\n",
              "      <td>801</td>\n",
              "    </tr>\n",
              "    <tr>\n",
              "      <th>2</th>\n",
              "      <td>1</td>\n",
              "      <td>1</td>\n",
              "      <td>0</td>\n",
              "      <td>1</td>\n",
              "      <td>1</td>\n",
              "      <td>0.196364</td>\n",
              "      <td>1349</td>\n",
              "    </tr>\n",
              "    <tr>\n",
              "      <th>3</th>\n",
              "      <td>1</td>\n",
              "      <td>1</td>\n",
              "      <td>0</td>\n",
              "      <td>1</td>\n",
              "      <td>1</td>\n",
              "      <td>0.200000</td>\n",
              "      <td>1562</td>\n",
              "    </tr>\n",
              "    <tr>\n",
              "      <th>4</th>\n",
              "      <td>1</td>\n",
              "      <td>1</td>\n",
              "      <td>0</td>\n",
              "      <td>1</td>\n",
              "      <td>1</td>\n",
              "      <td>0.226957</td>\n",
              "      <td>1600</td>\n",
              "    </tr>\n",
              "  </tbody>\n",
              "</table>\n",
              "</div>"
            ],
            "text/plain": [
              "   season  mnth  holiday  workingday  weathersit      temp   cnt\n",
              "0       1     1        0           0           2  0.344167   985\n",
              "1       1     1        0           0           2  0.363478   801\n",
              "2       1     1        0           1           1  0.196364  1349\n",
              "3       1     1        0           1           1  0.200000  1562\n",
              "4       1     1        0           1           1  0.226957  1600"
            ]
          },
          "execution_count": 4,
          "metadata": {},
          "output_type": "execute_result"
        }
      ],
      "source": [
        "# Loading `bike_sharing_data_processed.csv` dataset\n",
        "df = pd.read_csv('bike_sharing_data_processed.csv')\n",
        "df.head()"
      ]
    },
    {
      "cell_type": "code",
      "execution_count": 6,
      "metadata": {
        "id": "MtBPDCxKehOQ",
        "outputId": "1462bf49-1905-4a0b-b074-819564e34f8e"
      },
      "outputs": [
        {
          "data": {
            "text/plain": [
              "(731, 7)"
            ]
          },
          "execution_count": 6,
          "metadata": {},
          "output_type": "execute_result"
        }
      ],
      "source": [
        "df.shape"
      ]
    },
    {
      "cell_type": "code",
      "execution_count": 7,
      "metadata": {
        "id": "GZNFYNNoehOQ",
        "outputId": "89a3f3fa-65a8-4340-d1b5-95b9dce4b4ef"
      },
      "outputs": [
        {
          "data": {
            "text/plain": [
              "array([2, 1, 3], dtype=int64)"
            ]
          },
          "execution_count": 7,
          "metadata": {},
          "output_type": "execute_result"
        }
      ],
      "source": [
        "df['weathersit'].unique()"
      ]
    },
    {
      "cell_type": "code",
      "execution_count": 9,
      "metadata": {
        "id": "ubvh62RSehOR",
        "outputId": "f4092df5-7c63-49be-b3eb-465863bc6b78"
      },
      "outputs": [
        {
          "data": {
            "text/html": [
              "<div>\n",
              "<style scoped>\n",
              "    .dataframe tbody tr th:only-of-type {\n",
              "        vertical-align: middle;\n",
              "    }\n",
              "\n",
              "    .dataframe tbody tr th {\n",
              "        vertical-align: top;\n",
              "    }\n",
              "\n",
              "    .dataframe thead th {\n",
              "        text-align: right;\n",
              "    }\n",
              "</style>\n",
              "<table border=\"1\" class=\"dataframe\">\n",
              "  <thead>\n",
              "    <tr style=\"text-align: right;\">\n",
              "      <th></th>\n",
              "      <th>count</th>\n",
              "      <th>mean</th>\n",
              "      <th>std</th>\n",
              "      <th>min</th>\n",
              "      <th>25%</th>\n",
              "      <th>50%</th>\n",
              "      <th>75%</th>\n",
              "      <th>max</th>\n",
              "    </tr>\n",
              "    <tr>\n",
              "      <th>weathersit</th>\n",
              "      <th></th>\n",
              "      <th></th>\n",
              "      <th></th>\n",
              "      <th></th>\n",
              "      <th></th>\n",
              "      <th></th>\n",
              "      <th></th>\n",
              "      <th></th>\n",
              "    </tr>\n",
              "  </thead>\n",
              "  <tbody>\n",
              "    <tr>\n",
              "      <th>1</th>\n",
              "      <td>463.0</td>\n",
              "      <td>4876.786177</td>\n",
              "      <td>1879.483989</td>\n",
              "      <td>431.0</td>\n",
              "      <td>3636.5</td>\n",
              "      <td>4844.0</td>\n",
              "      <td>6458.5</td>\n",
              "      <td>8714.0</td>\n",
              "    </tr>\n",
              "    <tr>\n",
              "      <th>2</th>\n",
              "      <td>247.0</td>\n",
              "      <td>4035.862348</td>\n",
              "      <td>1809.109918</td>\n",
              "      <td>605.0</td>\n",
              "      <td>2674.5</td>\n",
              "      <td>4040.0</td>\n",
              "      <td>5257.5</td>\n",
              "      <td>8362.0</td>\n",
              "    </tr>\n",
              "    <tr>\n",
              "      <th>3</th>\n",
              "      <td>21.0</td>\n",
              "      <td>1803.285714</td>\n",
              "      <td>1240.284449</td>\n",
              "      <td>22.0</td>\n",
              "      <td>705.0</td>\n",
              "      <td>1817.0</td>\n",
              "      <td>2424.0</td>\n",
              "      <td>4639.0</td>\n",
              "    </tr>\n",
              "  </tbody>\n",
              "</table>\n",
              "</div>"
            ],
            "text/plain": [
              "            count         mean          std    min     25%     50%     75%   \n",
              "weathersit                                                                   \n",
              "1           463.0  4876.786177  1879.483989  431.0  3636.5  4844.0  6458.5  \\\n",
              "2           247.0  4035.862348  1809.109918  605.0  2674.5  4040.0  5257.5   \n",
              "3            21.0  1803.285714  1240.284449   22.0   705.0  1817.0  2424.0   \n",
              "\n",
              "               max  \n",
              "weathersit          \n",
              "1           8714.0  \n",
              "2           8362.0  \n",
              "3           4639.0  "
            ]
          },
          "execution_count": 9,
          "metadata": {},
          "output_type": "execute_result"
        }
      ],
      "source": [
        "df.groupby('weathersit')['cnt'].describe()"
      ]
    },
    {
      "cell_type": "markdown",
      "metadata": {
        "id": "m6cA3cKaehOR"
      },
      "source": [
        "**Categories**\n",
        "\n",
        "*1 - Sunny day* <br>\n",
        "*2 - Little more clouds*<br>\n",
        "*3 - Cloudy with thunderstorms*"
      ]
    },
    {
      "cell_type": "markdown",
      "metadata": {
        "id": "1vnmlTrkehOS"
      },
      "source": [
        "<h4> Hypothesis</h4>\n",
        "\n",
        "-  Null hypothesis (H0): The means of these are the same\n",
        "-  Alternative hypothesis (H1): The means of these are different"
      ]
    },
    {
      "cell_type": "markdown",
      "metadata": {
        "id": "f6hl_E-behOS"
      },
      "source": [
        "bike_sharing_data.boxplot(column=['cnt'], by='weathersit', figsize=(12, 8))"
      ]
    },
    {
      "cell_type": "markdown",
      "metadata": {
        "id": "XD2py0QVehOS"
      },
      "source": [
        "More bikes are rented during sunny day than on cloudy and thunderstorm days"
      ]
    },
    {
      "cell_type": "markdown",
      "metadata": {
        "id": "aWzgqIzuehOS"
      },
      "source": [
        "<h4> Calculating one way ANOVA </h4>"
      ]
    },
    {
      "cell_type": "code",
      "execution_count": 23,
      "metadata": {
        "id": "X4fAZhH5ehOS",
        "outputId": "1908ee42-521f-4a00-9f92-704678ce6e15"
      },
      "outputs": [
        {
          "name": "stdout",
          "output_type": "stream",
          "text": [
            "F-Statistic: 40.06604492024684\n",
            "P-Value: 3.106317270053755e-17\n",
            "reject the null hypothesis.\n"
          ]
        }
      ],
      "source": [
        "\n",
        "group = [df[df['weathersit'] == i]['cnt'] for i in [1, 2, 3]]\n",
        "f_statistic, p_value = stats.f_oneway(*group)\n",
        "\n",
        "print(\"F-Statistic:\", f_statistic)\n",
        "print(\"P-Value:\", p_value)\n",
        "\n",
        "alpha = 0.05  #significance level\n",
        "if p_value < alpha:\n",
        "    print(\"reject the null hypothesis.\")\n",
        "else:\n",
        "    print(\"accept the null hypothesis.\")\n"
      ]
    },
    {
      "cell_type": "markdown",
      "metadata": {
        "id": "MJ4Qke49ehOT"
      },
      "source": [
        " The p-value returned is very very tiny and far below 5% and this indicates the differences in the means between these 3 categories/samples are significant. Therefore, the weather situtation has an impact on the count of the number of bikes rented."
      ]
    },
    {
      "cell_type": "markdown",
      "metadata": {
        "id": "aMF69wfkehOT"
      },
      "source": [
        "However, this test does not show which specific group's means compared with each other are different, i.e, group 1, 2 are different, or group 2, 3 are different or group 1, 3 are different. That's why we use another test, **Tukey's Honest Significance Difference test**"
      ]
    },
    {
      "cell_type": "markdown",
      "metadata": {
        "id": "WtA_iG56ehOT"
      },
      "source": [
        "<h3>Tukey's Honest Significance Difference Test</h3>"
      ]
    },
    {
      "cell_type": "code",
      "execution_count": 30,
      "metadata": {},
      "outputs": [
        {
          "data": {
            "text/html": [
              "<div>\n",
              "<style scoped>\n",
              "    .dataframe tbody tr th:only-of-type {\n",
              "        vertical-align: middle;\n",
              "    }\n",
              "\n",
              "    .dataframe tbody tr th {\n",
              "        vertical-align: top;\n",
              "    }\n",
              "\n",
              "    .dataframe thead th {\n",
              "        text-align: right;\n",
              "    }\n",
              "</style>\n",
              "<table border=\"1\" class=\"dataframe\">\n",
              "  <thead>\n",
              "    <tr style=\"text-align: right;\">\n",
              "      <th></th>\n",
              "      <th>season</th>\n",
              "      <th>mnth</th>\n",
              "      <th>holiday</th>\n",
              "      <th>workingday</th>\n",
              "      <th>weathersit</th>\n",
              "      <th>temp</th>\n",
              "      <th>cnt</th>\n",
              "    </tr>\n",
              "  </thead>\n",
              "  <tbody>\n",
              "    <tr>\n",
              "      <th>0</th>\n",
              "      <td>1</td>\n",
              "      <td>1</td>\n",
              "      <td>0</td>\n",
              "      <td>0</td>\n",
              "      <td>2</td>\n",
              "      <td>0.344167</td>\n",
              "      <td>985</td>\n",
              "    </tr>\n",
              "    <tr>\n",
              "      <th>1</th>\n",
              "      <td>1</td>\n",
              "      <td>1</td>\n",
              "      <td>0</td>\n",
              "      <td>0</td>\n",
              "      <td>2</td>\n",
              "      <td>0.363478</td>\n",
              "      <td>801</td>\n",
              "    </tr>\n",
              "    <tr>\n",
              "      <th>2</th>\n",
              "      <td>1</td>\n",
              "      <td>1</td>\n",
              "      <td>0</td>\n",
              "      <td>1</td>\n",
              "      <td>1</td>\n",
              "      <td>0.196364</td>\n",
              "      <td>1349</td>\n",
              "    </tr>\n",
              "    <tr>\n",
              "      <th>3</th>\n",
              "      <td>1</td>\n",
              "      <td>1</td>\n",
              "      <td>0</td>\n",
              "      <td>1</td>\n",
              "      <td>1</td>\n",
              "      <td>0.200000</td>\n",
              "      <td>1562</td>\n",
              "    </tr>\n",
              "    <tr>\n",
              "      <th>4</th>\n",
              "      <td>1</td>\n",
              "      <td>1</td>\n",
              "      <td>0</td>\n",
              "      <td>1</td>\n",
              "      <td>1</td>\n",
              "      <td>0.226957</td>\n",
              "      <td>1600</td>\n",
              "    </tr>\n",
              "    <tr>\n",
              "      <th>...</th>\n",
              "      <td>...</td>\n",
              "      <td>...</td>\n",
              "      <td>...</td>\n",
              "      <td>...</td>\n",
              "      <td>...</td>\n",
              "      <td>...</td>\n",
              "      <td>...</td>\n",
              "    </tr>\n",
              "    <tr>\n",
              "      <th>726</th>\n",
              "      <td>1</td>\n",
              "      <td>12</td>\n",
              "      <td>0</td>\n",
              "      <td>1</td>\n",
              "      <td>2</td>\n",
              "      <td>0.254167</td>\n",
              "      <td>2114</td>\n",
              "    </tr>\n",
              "    <tr>\n",
              "      <th>727</th>\n",
              "      <td>1</td>\n",
              "      <td>12</td>\n",
              "      <td>0</td>\n",
              "      <td>1</td>\n",
              "      <td>2</td>\n",
              "      <td>0.253333</td>\n",
              "      <td>3095</td>\n",
              "    </tr>\n",
              "    <tr>\n",
              "      <th>728</th>\n",
              "      <td>1</td>\n",
              "      <td>12</td>\n",
              "      <td>0</td>\n",
              "      <td>0</td>\n",
              "      <td>2</td>\n",
              "      <td>0.253333</td>\n",
              "      <td>1341</td>\n",
              "    </tr>\n",
              "    <tr>\n",
              "      <th>729</th>\n",
              "      <td>1</td>\n",
              "      <td>12</td>\n",
              "      <td>0</td>\n",
              "      <td>0</td>\n",
              "      <td>1</td>\n",
              "      <td>0.255833</td>\n",
              "      <td>1796</td>\n",
              "    </tr>\n",
              "    <tr>\n",
              "      <th>730</th>\n",
              "      <td>1</td>\n",
              "      <td>12</td>\n",
              "      <td>0</td>\n",
              "      <td>1</td>\n",
              "      <td>2</td>\n",
              "      <td>0.215833</td>\n",
              "      <td>2729</td>\n",
              "    </tr>\n",
              "  </tbody>\n",
              "</table>\n",
              "<p>731 rows × 7 columns</p>\n",
              "</div>"
            ],
            "text/plain": [
              "     season  mnth  holiday  workingday  weathersit      temp   cnt\n",
              "0         1     1        0           0           2  0.344167   985\n",
              "1         1     1        0           0           2  0.363478   801\n",
              "2         1     1        0           1           1  0.196364  1349\n",
              "3         1     1        0           1           1  0.200000  1562\n",
              "4         1     1        0           1           1  0.226957  1600\n",
              "..      ...   ...      ...         ...         ...       ...   ...\n",
              "726       1    12        0           1           2  0.254167  2114\n",
              "727       1    12        0           1           2  0.253333  3095\n",
              "728       1    12        0           0           2  0.253333  1341\n",
              "729       1    12        0           0           1  0.255833  1796\n",
              "730       1    12        0           1           2  0.215833  2729\n",
              "\n",
              "[731 rows x 7 columns]"
            ]
          },
          "execution_count": 30,
          "metadata": {},
          "output_type": "execute_result"
        }
      ],
      "source": [
        "df"
      ]
    },
    {
      "cell_type": "code",
      "execution_count": 33,
      "metadata": {},
      "outputs": [
        {
          "name": "stdout",
          "output_type": "stream",
          "text": [
            "    Multiple Comparison of Means - Tukey HSD, FWER=0.05    \n",
            "===========================================================\n",
            "group1 group2  meandiff  p-adj   lower      upper    reject\n",
            "-----------------------------------------------------------\n",
            "     1      2  -840.9238   0.0 -1181.6303  -500.2174   True\n",
            "     1      3 -3073.5005   0.0 -4038.2458 -2108.7551   True\n",
            "     2      3 -2232.5766   0.0 -3215.4542 -1249.6991   True\n",
            "-----------------------------------------------------------\n"
          ]
        }
      ],
      "source": [
        "\n",
        "from statsmodels.stats.multicomp import MultiComparison\n",
        "from statsmodels.stats.multicomp import pairwise_tukeyhsd\n",
        "# Create MultiComparison object\n",
        "mul_com = MultiComparison(df['cnt'], df['weathersit'])\n",
        "\n",
        "# Perform Tukey's HSD test\n",
        "mul_result =  pairwise_tukeyhsd(endog=df['cnt'] , groups=df['weathersit'], alpha=0.05)\n",
        "\n",
        "# Print Tukey HSD results\n",
        "print(mul_result)\n"
      ]
    },
    {
      "cell_type": "code",
      "execution_count": 34,
      "metadata": {
        "id": "B_iGepKUehOT",
        "outputId": "837df0ee-044a-4d01-c3d9-4df11cf3d328"
      },
      "outputs": [
        {
          "name": "stdout",
          "output_type": "stream",
          "text": [
            "    Multiple Comparison of Means - Tukey HSD, FWER=0.05    \n",
            "===========================================================\n",
            "group1 group2  meandiff  p-adj   lower      upper    reject\n",
            "-----------------------------------------------------------\n",
            "     1      2  -840.9238   0.0 -1181.6303  -500.2174   True\n",
            "     1      3 -3073.5005   0.0 -4038.2458 -2108.7551   True\n",
            "     2      3 -2232.5766   0.0 -3215.4542 -1249.6991   True\n",
            "-----------------------------------------------------------\n"
          ]
        }
      ],
      "source": [
        "# Fill in the blank\n",
        "from statsmodels.stats.multicomp import MultiComparison\n",
        "from statsmodels.stats.multicomp import pairwise_tukeyhsd\n",
        "\n",
        "mul_com = MultiComparison(df['cnt'], df['weathersit'])\n",
        "\n",
        "mul_result = pairwise_tukeyhsd(endog=df['cnt'] , groups=df['weathersit'], alpha=0.05)\n",
        "\n",
        "print(mul_result)"
      ]
    },
    {
      "cell_type": "markdown",
      "metadata": {
        "id": "qgIq_7-TehOT"
      },
      "source": [
        "The above table consists of the comparison between all three groups. On the last column, the values are for the comparison of all three groups, 'True' which means we reject null hypothesis (H0) and accept the alternative hypothesis."
      ]
    }
  ],
  "metadata": {
    "colab": {
      "provenance": []
    },
    "kernelspec": {
      "display_name": "Python 3",
      "language": "python",
      "name": "python3"
    },
    "language_info": {
      "codemirror_mode": {
        "name": "ipython",
        "version": 3
      },
      "file_extension": ".py",
      "mimetype": "text/x-python",
      "name": "python",
      "nbconvert_exporter": "python",
      "pygments_lexer": "ipython3",
      "version": "3.11.2"
    }
  },
  "nbformat": 4,
  "nbformat_minor": 0
}
